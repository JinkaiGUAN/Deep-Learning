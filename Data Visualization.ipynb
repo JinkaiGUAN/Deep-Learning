{
 "cells": [
  {
   "cell_type": "code",
   "execution_count": 1,
   "metadata": {},
   "outputs": [],
   "source": [
    "import numpy as np\n",
    "import pandas as pd \n",
    "import matplotlib.pyplot as plt"
   ]
  },
  {
   "cell_type": "code",
   "execution_count": 9,
   "metadata": {},
   "outputs": [],
   "source": [
    "data = pd.read_excel('国药FLC冷库出库分析2019.9.18.xlsx', sheet_name='FLC')"
   ]
  },
  {
   "cell_type": "code",
   "execution_count": 10,
   "outputs": [],
   "source": [
    "# data.iloc[:, :5]\n",
    "flc_EQ = pd.read_excel('国药FLC冷库出库分析2019.9.18.xlsx', sheet_name='FLC冷库EQ').iloc[:, :8]"
   ],
   "metadata": {
    "collapsed": false,
    "pycharm": {
     "name": "#%%\n"
    }
   }
  },
  {
   "cell_type": "code",
   "execution_count": 6,
   "outputs": [],
   "source": [
    "idx = flc_EQ[flc_EQ['订单累计占比'] >= 0.2 ].index.tolist()[0]\n",
    "# result = arr[arr['numTest']>2].index.tolist()\n",
    "max_row_line = np.max(flc_EQ['订单行数'])\n",
    "# max_row_line - max_row_line % 10\n",
    "# type(flc_EQ['订单行数'])"
   ],
   "metadata": {
    "collapsed": false,
    "pycharm": {
     "name": "#%%\n"
    }
   }
  },
  {
   "cell_type": "code",
   "source": [
    "mask = data['货品编号'] == 114800199\n",
    "type(np.unique(data.loc[:, '日期'])[0])"
   ],
   "metadata": {
    "collapsed": false,
    "pycharm": {
     "name": "#%%\n"
    }
   },
   "execution_count": 7,
   "outputs": [
    {
     "data": {
      "text/plain": "numpy.datetime64"
     },
     "execution_count": 7,
     "metadata": {},
     "output_type": "execute_result"
    }
   ]
  },
  {
   "cell_type": "code",
   "execution_count": 38,
   "outputs": [],
   "source": [
    "def refactor_datetime_format(x):\n",
    "    if isinstance(x, pd.Timestamp):\n",
    "        return True\n",
    "    else:\n",
    "        raise Exception(r\"The date-time should be writen as the format of\" \\\n",
    "                    \" year/month/day hour:minute in row {}. Please use the date format in Excel!\".format(x))\n",
    "\n",
    "datetimes = list(filter(lambda x: refactor_datetime_format(x), data.loc[:, '日期'])) # 清单中所有日期时间戳， 包含重复"
   ],
   "metadata": {
    "collapsed": false,
    "pycharm": {
     "name": "#%%\n"
    }
   }
  },
  {
   "cell_type": "code",
   "execution_count": 46,
   "outputs": [
    {
     "data": {
      "text/plain": "pandas._libs.tslibs.timestamps.Timestamp"
     },
     "execution_count": 46,
     "metadata": {},
     "output_type": "execute_result"
    }
   ],
   "source": [
    "type(np.unique(list(data.loc[:, '日期']))[0])\n",
    "# type(np.unique(datetimes)[0])"
   ],
   "metadata": {
    "collapsed": false,
    "pycharm": {
     "name": "#%%\n"
    }
   }
  },
  {
   "cell_type": "code",
   "execution_count": 1,
   "metadata": {},
   "outputs": [
    {
     "ename": "NameError",
     "evalue": "name 'pd' is not defined",
     "output_type": "error",
     "traceback": [
      "\u001B[1;31m---------------------------------------------------------------------------\u001B[0m",
      "\u001B[1;31mNameError\u001B[0m                                 Traceback (most recent call last)",
      "\u001B[1;32m<ipython-input-1-0304c5e4b203>\u001B[0m in \u001B[0;36m<module>\u001B[1;34m\u001B[0m\n\u001B[1;32m----> 1\u001B[1;33m \u001B[0mtouches\u001B[0m \u001B[1;33m=\u001B[0m \u001B[0mpd\u001B[0m\u001B[1;33m.\u001B[0m\u001B[0mread_excel\u001B[0m\u001B[1;33m(\u001B[0m\u001B[1;34m'./results/EIQ 2021-05-17-11-13.xlsx'\u001B[0m\u001B[1;33m)\u001B[0m\u001B[1;33m\u001B[0m\u001B[1;33m\u001B[0m\u001B[0m\n\u001B[0m\u001B[0;32m      2\u001B[0m \u001B[0mtouches\u001B[0m\u001B[1;33m[\u001B[0m\u001B[1;34m'2019/03/12'\u001B[0m\u001B[1;33m]\u001B[0m\u001B[1;33m\u001B[0m\u001B[1;33m\u001B[0m\u001B[0m\n\u001B[0;32m      3\u001B[0m \u001B[1;33m\u001B[0m\u001B[0m\n",
      "\u001B[1;31mNameError\u001B[0m: name 'pd' is not defined"
     ]
    }
   ],
   "source": [
    "touches = pd.read_excel('./results/EIQ 2021-05-17-11-13.xlsx')\n",
    "touches['2019/03/12']"
   ]
  },
  {
   "cell_type": "code",
   "execution_count": 53,
   "outputs": [
    {
     "data": {
      "text/plain": "6"
     },
     "execution_count": 53,
     "metadata": {},
     "output_type": "execute_result"
    }
   ],
   "source": [
    "np.sum(touches.iloc[1, 1:])"
   ],
   "metadata": {
    "collapsed": false,
    "pycharm": {
     "name": "#%%\n"
    }
   }
  },
  {
   "cell_type": "code",
   "execution_count": null,
   "outputs": [],
   "source": [
    "# statistic of one day, e.g. 3, 12\n",
    "# EIQ statistics\n",
    "# 先确定某一天， 即提取出当天所有信息， where；提取出当天所有货品清单， unique, 进行比对 \n",
    "unique_datetime_items = np.unique(datetimes) # the specific number array of the date\n",
    "# unique_datetime_items： 储存了所有日期时间戳\n",
    "filter_data = {} # key (pd.Timestap), value (list), the index in the original data\n",
    "# filter_data 用来储存当天所有的行号信息\n",
    "for i, date in enumerate(unique_datetime_items):\n",
    "    filter_data[date] = []\n",
    "    for idx, datetime in enumerate(datetimes):\n",
    "        if datetime.month == date.month and datetime.day == date.day:\n",
    "            filter_data[date].append(idx)\n",
    "        # Since the original data is a sorted sequence, we can do the following break code. \n",
    "        if datetime.day > date.day:\n",
    "            break"
   ],
   "metadata": {
    "collapsed": false,
    "pycharm": {
     "name": "#%%\n"
    }
   }
  },
  {
   "cell_type": "code",
   "execution_count": 12,
   "metadata": {},
   "outputs": [],
   "source": [
    "goods_bill = np.unique(data.loc[:, '货品编号'])\n",
    "orders_bill = np.unique(data.loc[:, '出货单号'])"
   ]
  },
  {
   "cell_type": "code",
   "execution_count": 5,
   "metadata": {},
   "outputs": [],
   "source": [
    "mask = filter_data[unique_datetime_items[0]]  # the list of the data we are going to use in 3/12"
   ]
  },
  {
   "cell_type": "code",
   "execution_count": 6,
   "metadata": {},
   "outputs": [],
   "source": [
    "data_3_12 = data.iloc[mask, :]"
   ]
  },
  {
   "cell_type": "code",
   "execution_count": 7,
   "metadata": {},
   "outputs": [],
   "source": [
    "goods_bill_3_12 = np.unique(data_3_12.loc[:, '货品编号']) "
   ]
  },
  {
   "cell_type": "code",
   "execution_count": 28,
   "metadata": {
    "scrolled": false
   },
   "outputs": [],
   "source": [
    "# 现在可以做， 统计某一类货品的所有数量\n",
    "goods_order = {}  # 存储当天订单中出现商品所出货数量\n",
    "\n",
    "for goods_name in goods_bill_3_12:\n",
    "    goods_order[goods_name] = 0\n",
    "    for idx, goods_num in enumerate(data_3_12.loc[:, '货品编号']):\n",
    "        if goods_num == goods_name:\n",
    "            goods_order[goods_name] +=data_3_12.loc[idx, '数量']"
   ]
  },
  {
   "cell_type": "code",
   "execution_count": 46,
   "metadata": {},
   "outputs": [
    {
     "data": {
      "text/plain": [
       "array([-200.,    0.,  200.,  400.,  600.,  800., 1000.])"
      ]
     },
     "execution_count": 46,
     "metadata": {},
     "output_type": "execute_result"
    }
   ],
   "source": [
    "# ax2.get_yticks()"
   ]
  },
  {
   "cell_type": "code",
   "execution_count": 38,
   "metadata": {
    "scrolled": true
   },
   "outputs": [],
   "source": [
    "sorted_order_list = sorted(goods_order.items(), key=lambda d:d[1], reverse=True) #[(114800269, 80),...]\n",
    "cum_order_list = np.cumsum([i[1] for i in sorted_order_list])\n",
    "cum_order_list = np.append(0, cum_order_list)"
   ]
  },
  {
   "cell_type": "code",
   "execution_count": 59,
   "metadata": {},
   "outputs": [],
   "source": [
    "from matplotlib import rcParams\n",
    "\n",
    "config = {\n",
    "    \"font.family\": 'FangSong',\n",
    "    \"font.size\": 20,\n",
    "    \"mathtext.fontset\": 'stix',\n",
    "    \"axes.titlesize\": 24, \n",
    "    'axes.unicode_minus': False # # 解决保存图像是负号'-'显示为方块的问题\n",
    "}\n",
    "rcParams.update(config)"
   ]
  },
  {
   "cell_type": "code",
   "execution_count": 120,
   "metadata": {},
   "outputs": [
    {
     "data": {
      "text/plain": [
       "90"
      ]
     },
     "execution_count": 120,
     "metadata": {},
     "output_type": "execute_result"
    }
   ],
   "source": [
    "def helper_function_axlim(sorted_order_list):\n",
    "    ax1_lim_max = np.max(sorted_order_list)\n",
    "    if not (ax1_lim_max % 10 == 0):\n",
    "        ax1_lim_max = (10 - ax1_lim_max % 10) + ax1_lim_max\n",
    "    return ax1_lim_max + 10\n",
    "\n",
    "helper_function_axlim([i[1] for i in sorted_order_list])"
   ]
  },
  {
   "cell_type": "code",
   "execution_count": 121,
   "metadata": {},
   "outputs": [
    {
     "data": {
      "image/png": "[encoded data removed]",
      "text/plain": [
       "<Figure size 432x288 with 2 Axes>"
      ]
     },
     "metadata": {
      "needs_background": "light"
     },
     "output_type": "display_data"
    }
   ],
   "source": [
    "\n",
    "fig, ax1 = plt.subplots()\n",
    "ax2 = ax1.twinx()           # 做镜像处理\n",
    "legend1 = ax1.bar([i for i in range(len(sorted_order_list))], [i[1] for i in sorted_order_list],color='#009966', label='单品出货量')\n",
    "legend2 = ax2.plot([i for i in range(len(cum_order_list))], cum_order_list, c='#FF0033', label='累计出货量')\n",
    " \n",
    "ax1.set_xlabel('产品类别')    #设置x轴标题\n",
    "ax1.set_ylabel('出货箱数',color = 'k')   #设置Y1轴标题\n",
    "ax2.set_ylabel('累计出货箱数',color = 'k')   #设置Y2轴标题\n",
    "ax1.set_ylim([0, helper_function_axlim([i[1] for i in sorted_order_list]) ])\n",
    "ax2.set_ylim([0, helper_function_axlim(cum_order_list)])\n",
    "\n",
    "fig.legend(loc=1, bbox_to_anchor=(2,1), bbox_transform=ax1.transAxes)\n",
    "plt.savefig('./plato.svg', dpi=1600, bbox_inches='tight')\n",
    "\n",
    "plt.show()\n",
    "# ax2.set_yticks(np.linspace(0, ax2.get_yticks()[-1], 5))\n",
    "# plt.bar([i for i in range(len(sorted_order_list))], [i[1] for i in sorted_order_list])\n",
    "\n",
    "# plt.plot([i for i in range(len(cum_order_list))], cum_order_list, c='r')"
   ]
  },
  {
   "cell_type": "code",
   "execution_count": 0,
   "metadata": {},
   "outputs": [],
   "source": []
  },
  {
   "cell_type": "code",
   "execution_count": 9,
   "metadata": {},
   "outputs": [
    {
     "data": {
      "text/plain": [
       "array([ 1,  4, 10], dtype=int64)"
      ]
     },
     "execution_count": 9,
     "metadata": {},
     "output_type": "execute_result"
    }
   ],
   "source": [
    "np.unique(data.loc[:, '包装'])"
   ]
  },
  {
   "cell_type": "code",
   "execution_count": 97,
   "metadata": {},
   "outputs": [
    {
     "data": {
      "text/html": [
       "<div>\n",
       "<style scoped>\n",
       "    .dataframe tbody tr th:only-of-type {\n",
       "        vertical-align: middle;\n",
       "    }\n",
       "\n",
       "    .dataframe tbody tr th {\n",
       "        vertical-align: top;\n",
       "    }\n",
       "\n",
       "    .dataframe thead th {\n",
       "        text-align: right;\n",
       "    }\n",
       "</style>\n",
       "<table border=\"1\" class=\"dataframe\">\n",
       "  <thead>\n",
       "    <tr style=\"text-align: right;\">\n",
       "      <th></th>\n",
       "      <th>日期时间</th>\n",
       "      <th>日期</th>\n",
       "      <th>时间</th>\n",
       "      <th>时间段</th>\n",
       "      <th>波次时段</th>\n",
       "      <th>拣货单号</th>\n",
       "      <th>出货单号</th>\n",
       "      <th>货主编号</th>\n",
       "      <th>货品编号</th>\n",
       "      <th>货品名称</th>\n",
       "      <th>...</th>\n",
       "      <th>规格</th>\n",
       "      <th>包装</th>\n",
       "      <th>单位</th>\n",
       "      <th>数量</th>\n",
       "      <th>库区类型</th>\n",
       "      <th>库区</th>\n",
       "      <th>货位</th>\n",
       "      <th>出库中包装数</th>\n",
       "      <th>箱规</th>\n",
       "      <th>波次拣箱</th>\n",
       "    </tr>\n",
       "  </thead>\n",
       "  <tbody>\n",
       "    <tr>\n",
       "      <th>27</th>\n",
       "      <td>2019-03-12 09:14:18.343</td>\n",
       "      <td>2019-03-12</td>\n",
       "      <td>09:14:18</td>\n",
       "      <td>9</td>\n",
       "      <td>435360.09</td>\n",
       "      <td>JH2019030533</td>\n",
       "      <td>CHD2019030560</td>\n",
       "      <td>100148</td>\n",
       "      <td>114800269</td>\n",
       "      <td>全自动免疫检验系统用底物液</td>\n",
       "      <td>...</td>\n",
       "      <td>130ml/瓶*4瓶</td>\n",
       "      <td>4</td>\n",
       "      <td>瓶</td>\n",
       "      <td>40</td>\n",
       "      <td>散件库</td>\n",
       "      <td>冷藏拣选F区</td>\n",
       "      <td>FLC0401101</td>\n",
       "      <td>10</td>\n",
       "      <td>30</td>\n",
       "      <td>0.333333</td>\n",
       "    </tr>\n",
       "    <tr>\n",
       "      <th>41</th>\n",
       "      <td>2019-03-12 09:51:19.080</td>\n",
       "      <td>2019-03-12</td>\n",
       "      <td>09:51:19</td>\n",
       "      <td>9</td>\n",
       "      <td>435360.09</td>\n",
       "      <td>JH2019030543</td>\n",
       "      <td>CHD2019030570</td>\n",
       "      <td>100148</td>\n",
       "      <td>114800269</td>\n",
       "      <td>全自动免疫检验系统用底物液</td>\n",
       "      <td>...</td>\n",
       "      <td>130ml/瓶*4瓶</td>\n",
       "      <td>4</td>\n",
       "      <td>瓶</td>\n",
       "      <td>28</td>\n",
       "      <td>散件库</td>\n",
       "      <td>冷藏拣选F区</td>\n",
       "      <td>FLC0401101</td>\n",
       "      <td>7</td>\n",
       "      <td>30</td>\n",
       "      <td>0.233333</td>\n",
       "    </tr>\n",
       "    <tr>\n",
       "      <th>86</th>\n",
       "      <td>2019-03-12 14:53:40.560</td>\n",
       "      <td>2019-03-12</td>\n",
       "      <td>14:53:41</td>\n",
       "      <td>14</td>\n",
       "      <td>435360.14</td>\n",
       "      <td>JH2019030574</td>\n",
       "      <td>CHD2019030601</td>\n",
       "      <td>100148</td>\n",
       "      <td>114800269</td>\n",
       "      <td>全自动免疫检验系统用底物液</td>\n",
       "      <td>...</td>\n",
       "      <td>130ml/瓶*4瓶</td>\n",
       "      <td>4</td>\n",
       "      <td>瓶</td>\n",
       "      <td>12</td>\n",
       "      <td>散件库</td>\n",
       "      <td>冷藏拣选F区</td>\n",
       "      <td>FLC0405503</td>\n",
       "      <td>3</td>\n",
       "      <td>30</td>\n",
       "      <td>0.100000</td>\n",
       "    </tr>\n",
       "    <tr>\n",
       "      <th>139</th>\n",
       "      <td>2019-03-13 11:54:15.297</td>\n",
       "      <td>2019-03-13</td>\n",
       "      <td>11:54:15</td>\n",
       "      <td>11</td>\n",
       "      <td>435370.11</td>\n",
       "      <td>JH2019030634</td>\n",
       "      <td>CHD2019030666</td>\n",
       "      <td>100148</td>\n",
       "      <td>114800269</td>\n",
       "      <td>全自动免疫检验系统用底物液</td>\n",
       "      <td>...</td>\n",
       "      <td>130ml/瓶*4瓶</td>\n",
       "      <td>4</td>\n",
       "      <td>瓶</td>\n",
       "      <td>4</td>\n",
       "      <td>散件库</td>\n",
       "      <td>冷藏拣选F区</td>\n",
       "      <td>FLC0403301</td>\n",
       "      <td>1</td>\n",
       "      <td>30</td>\n",
       "      <td>0.033333</td>\n",
       "    </tr>\n",
       "    <tr>\n",
       "      <th>144</th>\n",
       "      <td>2019-03-13 11:58:50.883</td>\n",
       "      <td>2019-03-13</td>\n",
       "      <td>11:58:51</td>\n",
       "      <td>11</td>\n",
       "      <td>435370.11</td>\n",
       "      <td>JH2019030636</td>\n",
       "      <td>CHD2019030665</td>\n",
       "      <td>100148</td>\n",
       "      <td>114800269</td>\n",
       "      <td>全自动免疫检验系统用底物液</td>\n",
       "      <td>...</td>\n",
       "      <td>130ml/瓶*4瓶</td>\n",
       "      <td>4</td>\n",
       "      <td>瓶</td>\n",
       "      <td>8</td>\n",
       "      <td>散件库</td>\n",
       "      <td>冷藏拣选F区</td>\n",
       "      <td>FLC0403301</td>\n",
       "      <td>2</td>\n",
       "      <td>30</td>\n",
       "      <td>0.066667</td>\n",
       "    </tr>\n",
       "    <tr>\n",
       "      <th>...</th>\n",
       "      <td>...</td>\n",
       "      <td>...</td>\n",
       "      <td>...</td>\n",
       "      <td>...</td>\n",
       "      <td>...</td>\n",
       "      <td>...</td>\n",
       "      <td>...</td>\n",
       "      <td>...</td>\n",
       "      <td>...</td>\n",
       "      <td>...</td>\n",
       "      <td>...</td>\n",
       "      <td>...</td>\n",
       "      <td>...</td>\n",
       "      <td>...</td>\n",
       "      <td>...</td>\n",
       "      <td>...</td>\n",
       "      <td>...</td>\n",
       "      <td>...</td>\n",
       "      <td>...</td>\n",
       "      <td>...</td>\n",
       "      <td>...</td>\n",
       "    </tr>\n",
       "    <tr>\n",
       "      <th>13542</th>\n",
       "      <td>2019-07-31 12:20:39.850</td>\n",
       "      <td>2019-07-31</td>\n",
       "      <td>12:20:40</td>\n",
       "      <td>12</td>\n",
       "      <td>436770.12</td>\n",
       "      <td>JH2019071698</td>\n",
       "      <td>CHD2019071777</td>\n",
       "      <td>100148</td>\n",
       "      <td>114800269</td>\n",
       "      <td>全自动免疫检验系统用底物液</td>\n",
       "      <td>...</td>\n",
       "      <td>130ml/瓶*4瓶</td>\n",
       "      <td>4</td>\n",
       "      <td>瓶</td>\n",
       "      <td>12</td>\n",
       "      <td>散件库</td>\n",
       "      <td>冷藏拣选F区</td>\n",
       "      <td>FLC0103305</td>\n",
       "      <td>3</td>\n",
       "      <td>30</td>\n",
       "      <td>0.100000</td>\n",
       "    </tr>\n",
       "    <tr>\n",
       "      <th>13547</th>\n",
       "      <td>2019-07-31 12:21:35.550</td>\n",
       "      <td>2019-07-31</td>\n",
       "      <td>12:21:36</td>\n",
       "      <td>12</td>\n",
       "      <td>436770.12</td>\n",
       "      <td>JH2019071699</td>\n",
       "      <td>CHD2019071778</td>\n",
       "      <td>100148</td>\n",
       "      <td>114800269</td>\n",
       "      <td>全自动免疫检验系统用底物液</td>\n",
       "      <td>...</td>\n",
       "      <td>130ml/瓶*4瓶</td>\n",
       "      <td>4</td>\n",
       "      <td>瓶</td>\n",
       "      <td>8</td>\n",
       "      <td>散件库</td>\n",
       "      <td>冷藏拣选F区</td>\n",
       "      <td>FLC0103305</td>\n",
       "      <td>2</td>\n",
       "      <td>30</td>\n",
       "      <td>0.066667</td>\n",
       "    </tr>\n",
       "    <tr>\n",
       "      <th>13567</th>\n",
       "      <td>2019-07-31 12:24:07.987</td>\n",
       "      <td>2019-07-31</td>\n",
       "      <td>12:24:08</td>\n",
       "      <td>12</td>\n",
       "      <td>436770.12</td>\n",
       "      <td>JH2019071702</td>\n",
       "      <td>CHD2019071773</td>\n",
       "      <td>100148</td>\n",
       "      <td>114800269</td>\n",
       "      <td>全自动免疫检验系统用底物液</td>\n",
       "      <td>...</td>\n",
       "      <td>130ml/瓶*4瓶</td>\n",
       "      <td>4</td>\n",
       "      <td>瓶</td>\n",
       "      <td>4</td>\n",
       "      <td>散件库</td>\n",
       "      <td>冷藏拣选F区</td>\n",
       "      <td>FLC0103305</td>\n",
       "      <td>1</td>\n",
       "      <td>30</td>\n",
       "      <td>0.033333</td>\n",
       "    </tr>\n",
       "    <tr>\n",
       "      <th>13767</th>\n",
       "      <td>2019-08-01 14:20:57.960</td>\n",
       "      <td>2019-08-01</td>\n",
       "      <td>14:20:58</td>\n",
       "      <td>14</td>\n",
       "      <td>436780.14</td>\n",
       "      <td>JH2019080057</td>\n",
       "      <td>CHD2019080059</td>\n",
       "      <td>100148</td>\n",
       "      <td>114800269</td>\n",
       "      <td>全自动免疫检验系统用底物液</td>\n",
       "      <td>...</td>\n",
       "      <td>130ml/瓶*4瓶</td>\n",
       "      <td>4</td>\n",
       "      <td>瓶</td>\n",
       "      <td>16</td>\n",
       "      <td>散件库</td>\n",
       "      <td>冷藏拣选F区</td>\n",
       "      <td>FLC0103305</td>\n",
       "      <td>4</td>\n",
       "      <td>30</td>\n",
       "      <td>0.133333</td>\n",
       "    </tr>\n",
       "    <tr>\n",
       "      <th>13889</th>\n",
       "      <td>2019-08-02 08:12:07.207</td>\n",
       "      <td>2019-08-02</td>\n",
       "      <td>08:12:07</td>\n",
       "      <td>8</td>\n",
       "      <td>436790.08</td>\n",
       "      <td>JH2019080097</td>\n",
       "      <td>CHD2019080098</td>\n",
       "      <td>100148</td>\n",
       "      <td>114800269</td>\n",
       "      <td>全自动免疫检验系统用底物液</td>\n",
       "      <td>...</td>\n",
       "      <td>130ml/瓶*4瓶</td>\n",
       "      <td>4</td>\n",
       "      <td>瓶</td>\n",
       "      <td>20</td>\n",
       "      <td>散件库</td>\n",
       "      <td>冷藏拣选F区</td>\n",
       "      <td>FLC0103305</td>\n",
       "      <td>5</td>\n",
       "      <td>30</td>\n",
       "      <td>0.166667</td>\n",
       "    </tr>\n",
       "  </tbody>\n",
       "</table>\n",
       "<p>88 rows × 22 columns</p>\n",
       "</div>"
      ],
      "text/plain": [
       "                         日期时间         日期        时间  时间段       波次时段  \\\n",
       "27    2019-03-12 09:14:18.343 2019-03-12  09:14:18    9  435360.09   \n",
       "41    2019-03-12 09:51:19.080 2019-03-12  09:51:19    9  435360.09   \n",
       "86    2019-03-12 14:53:40.560 2019-03-12  14:53:41   14  435360.14   \n",
       "139   2019-03-13 11:54:15.297 2019-03-13  11:54:15   11  435370.11   \n",
       "144   2019-03-13 11:58:50.883 2019-03-13  11:58:51   11  435370.11   \n",
       "...                       ...        ...       ...  ...        ...   \n",
       "13542 2019-07-31 12:20:39.850 2019-07-31  12:20:40   12  436770.12   \n",
       "13547 2019-07-31 12:21:35.550 2019-07-31  12:21:36   12  436770.12   \n",
       "13567 2019-07-31 12:24:07.987 2019-07-31  12:24:08   12  436770.12   \n",
       "13767 2019-08-01 14:20:57.960 2019-08-01  14:20:58   14  436780.14   \n",
       "13889 2019-08-02 08:12:07.207 2019-08-02  08:12:07    8  436790.08   \n",
       "\n",
       "               拣货单号           出货单号    货主编号       货品编号           货品名称  ...  \\\n",
       "27     JH2019030533  CHD2019030560  100148  114800269  全自动免疫检验系统用底物液  ...   \n",
       "41     JH2019030543  CHD2019030570  100148  114800269  全自动免疫检验系统用底物液  ...   \n",
       "86     JH2019030574  CHD2019030601  100148  114800269  全自动免疫检验系统用底物液  ...   \n",
       "139    JH2019030634  CHD2019030666  100148  114800269  全自动免疫检验系统用底物液  ...   \n",
       "144    JH2019030636  CHD2019030665  100148  114800269  全自动免疫检验系统用底物液  ...   \n",
       "...             ...            ...     ...        ...            ...  ...   \n",
       "13542  JH2019071698  CHD2019071777  100148  114800269  全自动免疫检验系统用底物液  ...   \n",
       "13547  JH2019071699  CHD2019071778  100148  114800269  全自动免疫检验系统用底物液  ...   \n",
       "13567  JH2019071702  CHD2019071773  100148  114800269  全自动免疫检验系统用底物液  ...   \n",
       "13767  JH2019080057  CHD2019080059  100148  114800269  全自动免疫检验系统用底物液  ...   \n",
       "13889  JH2019080097  CHD2019080098  100148  114800269  全自动免疫检验系统用底物液  ...   \n",
       "\n",
       "               规格 包装 单位  数量 库区类型      库区          货位 出库中包装数  箱规      波次拣箱  \n",
       "27     130ml/瓶*4瓶  4  瓶  40  散件库  冷藏拣选F区  FLC0401101     10  30  0.333333  \n",
       "41     130ml/瓶*4瓶  4  瓶  28  散件库  冷藏拣选F区  FLC0401101      7  30  0.233333  \n",
       "86     130ml/瓶*4瓶  4  瓶  12  散件库  冷藏拣选F区  FLC0405503      3  30  0.100000  \n",
       "139    130ml/瓶*4瓶  4  瓶   4  散件库  冷藏拣选F区  FLC0403301      1  30  0.033333  \n",
       "144    130ml/瓶*4瓶  4  瓶   8  散件库  冷藏拣选F区  FLC0403301      2  30  0.066667  \n",
       "...           ... .. ..  ..  ...     ...         ...    ...  ..       ...  \n",
       "13542  130ml/瓶*4瓶  4  瓶  12  散件库  冷藏拣选F区  FLC0103305      3  30  0.100000  \n",
       "13547  130ml/瓶*4瓶  4  瓶   8  散件库  冷藏拣选F区  FLC0103305      2  30  0.066667  \n",
       "13567  130ml/瓶*4瓶  4  瓶   4  散件库  冷藏拣选F区  FLC0103305      1  30  0.033333  \n",
       "13767  130ml/瓶*4瓶  4  瓶  16  散件库  冷藏拣选F区  FLC0103305      4  30  0.133333  \n",
       "13889  130ml/瓶*4瓶  4  瓶  20  散件库  冷藏拣选F区  FLC0103305      5  30  0.166667  \n",
       "\n",
       "[88 rows x 22 columns]"
      ]
     },
     "execution_count": 97,
     "metadata": {},
     "output_type": "execute_result"
    }
   ],
   "source": [
    "\n",
    "data.query('包装==\"4\"')"
   ]
  },
  {
   "cell_type": "code",
   "execution_count": 17,
   "metadata": {},
   "outputs": [],
   "source": [
    "value_list = [1, 7, 4, 9, 5, 6, 0]\n",
    "position_list = [i for i in range(1, len(value_list)+1)]\n",
    "# zipped = zip(position_list, value_list)\n",
    "sorted_value = sorted(value_list, reverse=True)\n",
    "# sorted_value\n",
    "# zipped = zip(position_list, sorted_value)\n",
    "\n",
    "position_info = []\n",
    "for num in value_list:\n",
    "    for pos_mark, num_mark in zip(position_list, sorted_value):\n",
    "        if int(num) == int(num_mark):\n",
    "            # print(pos_mark, num_mark)\n",
    "            position_info.append(pos_mark)\n",
    "            break"
   ]
  },
  {
   "cell_type": "code",
   "execution_count": 18,
   "metadata": {},
   "outputs": [
    {
     "data": {
      "text/plain": "[6, 2, 5, 1, 4, 3, 7]"
     },
     "execution_count": 18,
     "metadata": {},
     "output_type": "execute_result"
    }
   ],
   "source": [
    "position_info"
   ]
  },
  {
   "cell_type": "code",
   "execution_count": null,
   "metadata": {
    "pycharm": {
     "name": "#%%\n"
    }
   },
   "outputs": [],
   "source": [
    "sorted_value"
   ]
  },
  {
   "cell_type": "code",
   "execution_count": null,
   "metadata": {},
   "outputs": [],
   "source": []
  },
  {
   "cell_type": "code",
   "execution_count": null,
   "metadata": {},
   "outputs": [],
   "source": []
  },
  {
   "cell_type": "code",
   "execution_count": null,
   "metadata": {},
   "outputs": [],
   "source": []
  },
  {
   "cell_type": "code",
   "execution_count": null,
   "metadata": {},
   "outputs": [],
   "source": []
  },
  {
   "cell_type": "code",
   "execution_count": null,
   "metadata": {},
   "outputs": [],
   "source": []
  }
 ],
 "metadata": {
  "kernelspec": {
   "name": "pycharm-b7cdedd",
   "language": "python",
   "display_name": "PyCharm (FLC Data Analysis)"
  },
  "language_info": {
   "codemirror_mode": {
    "name": "ipython",
    "version": 3
   },
   "file_extension": ".py",
   "mimetype": "text/x-python",
   "name": "python",
   "nbconvert_exporter": "python",
   "pygments_lexer": "ipython3",
   "version": "3.8.5"
  },
  "latex_envs": {
   "LaTeX_envs_menu_present": true,
   "autoclose": false,
   "autocomplete": true,
   "bibliofile": "biblio.bib",
   "cite_by": "apalike",
   "current_citInitial": 1,
   "eqLabelWithNumbers": true,
   "eqNumInitial": 1,
   "hotkeys": {
    "equation": "Ctrl-E",
    "itemize": "Ctrl-I"
   },
   "labels_anchors": false,
   "latex_user_defs": false,
   "report_style_numbering": true,
   "user_envs_cfg": false
  },
  "toc": {
   "base_numbering": 1,
   "nav_menu": {},
   "number_sections": true,
   "sideBar": true,
   "skip_h1_title": false,
   "title_cell": "Table of Contents",
   "title_sidebar": "Contents",
   "toc_cell": false,
   "toc_position": {},
   "toc_section_display": true,
   "toc_window_display": false
  },
  "varInspector": {
   "cols": {
    "lenName": 16,
    "lenType": 16,
    "lenVar": 40
   },
   "kernels_config": {
    "python": {
     "delete_cmd_postfix": "",
     "delete_cmd_prefix": "del ",
     "library": "var_list.py",
     "varRefreshCmd": "print(var_dic_list())"
    },
    "r": {
     "delete_cmd_postfix": ") ",
     "delete_cmd_prefix": "rm(",
     "library": "var_list.r",
     "varRefreshCmd": "cat(var_dic_list()) "
    }
   },
   "types_to_exclude": [
    "module",
    "function",
    "builtin_function_or_method",
    "instance",
    "_Feature"
   ],
   "window_display": false
  }
 },
 "nbformat": 4,
 "nbformat_minor": 4
}